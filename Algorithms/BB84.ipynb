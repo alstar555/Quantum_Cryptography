{
 "cells": [
  {
   "cell_type": "markdown",
   "id": "34f74eae-e96a-4568-b9a6-d01c2449e205",
   "metadata": {},
   "source": [
    "# Quantum Key Distribution (QKD): \n",
    "## BB84 protocol implementation\n",
    "\n",
    "Developed in 1984 by Charles Bennett and Gilles Brassard, the BB84 protocol is one of the earliest Quantum Key Distribution (QKD) protocols. Its enables the secure establishment of a secret key through a quantum channel between two parties, Alice and Bob, leveraging the uncertainty principle and the no-cloning theorem from quantum mechanics. This prevents any potential eavesdropper, such as Eve, from intercepting the key without detection. "
   ]
  },
  {
   "cell_type": "markdown",
   "id": "0a0bb7b4-8427-4fc7-85c4-156ffd0f3e06",
   "metadata": {},
   "source": [
    "### Install qiskit packages"
   ]
  },
  {
   "cell_type": "code",
   "execution_count": 1,
   "id": "8a8fcf33-19b0-40ca-a062-f466294de82d",
   "metadata": {},
   "outputs": [
    {
     "name": "stdout",
     "output_type": "stream",
     "text": [
      "Requirement already satisfied: qiskit-ibm-provider in /home/angelica/.local/lib/python3.8/site-packages (0.8.0)\n",
      "Requirement already satisfied: typing-extensions>=4.3 in /home/angelica/.local/lib/python3.8/site-packages (from qiskit-ibm-provider) (4.8.0)\n",
      "Requirement already satisfied: websocket-client>=1.5.1 in /home/angelica/.local/lib/python3.8/site-packages (from qiskit-ibm-provider) (1.6.3)\n",
      "Requirement already satisfied: qiskit>=0.45.0 in /home/angelica/.local/lib/python3.8/site-packages (from qiskit-ibm-provider) (0.45.1)\n",
      "Requirement already satisfied: requests>=2.19 in /home/angelica/.local/lib/python3.8/site-packages (from qiskit-ibm-provider) (2.31.0)\n",
      "Requirement already satisfied: websockets>=10.0 in /home/angelica/.local/lib/python3.8/site-packages (from qiskit-ibm-provider) (12.0)\n",
      "Requirement already satisfied: requests-ntlm>=1.1.0 in /home/angelica/.local/lib/python3.8/site-packages (from qiskit-ibm-provider) (1.1.0)\n",
      "Requirement already satisfied: urllib3>=1.21.1 in /usr/lib/python3/dist-packages (from qiskit-ibm-provider) (1.25.8)\n",
      "Requirement already satisfied: numpy>=1.13 in /home/angelica/.local/lib/python3.8/site-packages (from qiskit-ibm-provider) (1.22.3)\n",
      "Requirement already satisfied: python-dateutil>=2.8.0 in /home/angelica/.local/lib/python3.8/site-packages (from qiskit-ibm-provider) (2.8.2)\n",
      "Requirement already satisfied: qiskit-terra==0.45.1 in /home/angelica/.local/lib/python3.8/site-packages (from qiskit>=0.45.0->qiskit-ibm-provider) (0.45.1)\n",
      "Requirement already satisfied: certifi>=2017.4.17 in /usr/lib/python3/dist-packages (from requests>=2.19->qiskit-ibm-provider) (2019.11.28)\n",
      "Requirement already satisfied: charset-normalizer<4,>=2 in /home/angelica/.local/lib/python3.8/site-packages (from requests>=2.19->qiskit-ibm-provider) (3.3.0)\n",
      "Requirement already satisfied: idna<4,>=2.5 in /usr/lib/python3/dist-packages (from requests>=2.19->qiskit-ibm-provider) (2.8)\n",
      "Requirement already satisfied: ntlm-auth>=1.0.2 in /home/angelica/.local/lib/python3.8/site-packages (from requests-ntlm>=1.1.0->qiskit-ibm-provider) (1.5.0)\n",
      "Requirement already satisfied: cryptography>=1.3 in /usr/lib/python3/dist-packages (from requests-ntlm>=1.1.0->qiskit-ibm-provider) (2.8)\n",
      "Requirement already satisfied: six>=1.5 in /usr/lib/python3/dist-packages (from python-dateutil>=2.8.0->qiskit-ibm-provider) (1.14.0)\n",
      "Requirement already satisfied: ply>=3.10 in /home/angelica/.local/lib/python3.8/site-packages (from qiskit-terra==0.45.1->qiskit>=0.45.0->qiskit-ibm-provider) (3.11)\n",
      "Requirement already satisfied: stevedore>=3.0.0 in /home/angelica/.local/lib/python3.8/site-packages (from qiskit-terra==0.45.1->qiskit>=0.45.0->qiskit-ibm-provider) (5.1.0)\n",
      "Requirement already satisfied: dill>=0.3 in /home/angelica/.local/lib/python3.8/site-packages (from qiskit-terra==0.45.1->qiskit>=0.45.0->qiskit-ibm-provider) (0.3.7)\n",
      "Requirement already satisfied: rustworkx>=0.13.0 in /home/angelica/.local/lib/python3.8/site-packages (from qiskit-terra==0.45.1->qiskit>=0.45.0->qiskit-ibm-provider) (0.13.2)\n",
      "Requirement already satisfied: scipy>=1.5 in /home/angelica/.local/lib/python3.8/site-packages (from qiskit-terra==0.45.1->qiskit>=0.45.0->qiskit-ibm-provider) (1.10.1)\n",
      "Requirement already satisfied: symengine!=0.10.0,>=0.9; platform_machine == \"x86_64\" or platform_machine == \"aarch64\" or platform_machine == \"ppc64le\" or platform_machine == \"amd64\" or platform_machine == \"arm64\" in /home/angelica/.local/lib/python3.8/site-packages (from qiskit-terra==0.45.1->qiskit>=0.45.0->qiskit-ibm-provider) (0.11.0)\n",
      "Requirement already satisfied: sympy>=1.3 in /home/angelica/.local/lib/python3.8/site-packages (from qiskit-terra==0.45.1->qiskit>=0.45.0->qiskit-ibm-provider) (1.10.1)\n",
      "Requirement already satisfied: psutil>=5 in /home/angelica/.local/lib/python3.8/site-packages (from qiskit-terra==0.45.1->qiskit>=0.45.0->qiskit-ibm-provider) (5.9.2)\n",
      "Requirement already satisfied: pbr!=2.1.0,>=2.0.0 in /home/angelica/.local/lib/python3.8/site-packages (from stevedore>=3.0.0->qiskit-terra==0.45.1->qiskit>=0.45.0->qiskit-ibm-provider) (6.0.0)\n",
      "Requirement already satisfied: mpmath>=0.19 in /home/angelica/.local/lib/python3.8/site-packages (from sympy>=1.3->qiskit-terra==0.45.1->qiskit>=0.45.0->qiskit-ibm-provider) (1.2.1)\n",
      "Note: you may need to restart the kernel to use updated packages.\n",
      "Requirement already satisfied: qiskit in /home/angelica/.local/lib/python3.8/site-packages (0.45.1)\n",
      "Requirement already satisfied: qiskit-terra==0.45.1 in /home/angelica/.local/lib/python3.8/site-packages (from qiskit) (0.45.1)\n",
      "Requirement already satisfied: stevedore>=3.0.0 in /home/angelica/.local/lib/python3.8/site-packages (from qiskit-terra==0.45.1->qiskit) (5.1.0)\n",
      "Requirement already satisfied: symengine!=0.10.0,>=0.9; platform_machine == \"x86_64\" or platform_machine == \"aarch64\" or platform_machine == \"ppc64le\" or platform_machine == \"amd64\" or platform_machine == \"arm64\" in /home/angelica/.local/lib/python3.8/site-packages (from qiskit-terra==0.45.1->qiskit) (0.11.0)\n",
      "Requirement already satisfied: typing-extensions; python_version < \"3.11\" in /home/angelica/.local/lib/python3.8/site-packages (from qiskit-terra==0.45.1->qiskit) (4.8.0)\n",
      "Requirement already satisfied: rustworkx>=0.13.0 in /home/angelica/.local/lib/python3.8/site-packages (from qiskit-terra==0.45.1->qiskit) (0.13.2)\n",
      "Requirement already satisfied: numpy<2,>=1.17 in /home/angelica/.local/lib/python3.8/site-packages (from qiskit-terra==0.45.1->qiskit) (1.22.3)\n",
      "Requirement already satisfied: scipy>=1.5 in /home/angelica/.local/lib/python3.8/site-packages (from qiskit-terra==0.45.1->qiskit) (1.10.1)\n",
      "Requirement already satisfied: sympy>=1.3 in /home/angelica/.local/lib/python3.8/site-packages (from qiskit-terra==0.45.1->qiskit) (1.10.1)\n",
      "Requirement already satisfied: dill>=0.3 in /home/angelica/.local/lib/python3.8/site-packages (from qiskit-terra==0.45.1->qiskit) (0.3.7)\n",
      "Requirement already satisfied: ply>=3.10 in /home/angelica/.local/lib/python3.8/site-packages (from qiskit-terra==0.45.1->qiskit) (3.11)\n",
      "Requirement already satisfied: psutil>=5 in /home/angelica/.local/lib/python3.8/site-packages (from qiskit-terra==0.45.1->qiskit) (5.9.2)\n",
      "Requirement already satisfied: python-dateutil>=2.8.0 in /home/angelica/.local/lib/python3.8/site-packages (from qiskit-terra==0.45.1->qiskit) (2.8.2)\n",
      "Requirement already satisfied: pbr!=2.1.0,>=2.0.0 in /home/angelica/.local/lib/python3.8/site-packages (from stevedore>=3.0.0->qiskit-terra==0.45.1->qiskit) (6.0.0)\n",
      "Requirement already satisfied: mpmath>=0.19 in /home/angelica/.local/lib/python3.8/site-packages (from sympy>=1.3->qiskit-terra==0.45.1->qiskit) (1.2.1)\n",
      "Requirement already satisfied: six>=1.5 in /usr/lib/python3/dist-packages (from python-dateutil>=2.8.0->qiskit-terra==0.45.1->qiskit) (1.14.0)\n",
      "Note: you may need to restart the kernel to use updated packages.\n"
     ]
    }
   ],
   "source": [
    "%pip install qiskit-ibm-provider\n",
    "%pip install qiskit"
   ]
  },
  {
   "cell_type": "code",
   "execution_count": 2,
   "id": "ef68ec9d-de56-4897-afc6-a724aa29a7cf",
   "metadata": {},
   "outputs": [],
   "source": [
    "# import qiskit\n",
    "from qiskit import QuantumRegister, ClassicalRegister, QuantumCircuit, execute,IBMQ\n",
    "from qiskit_ibm_provider import IBMProvider"
   ]
  },
  {
   "cell_type": "code",
   "execution_count": 3,
   "id": "15033710-db51-47ff-9194-baa16243593f",
   "metadata": {},
   "outputs": [],
   "source": [
    "api_token = \"6a3d54a8c16ad239a40a5f6bc4ee4d6e269243449dff35de7736496ff419ccde52a6415141bae54a7d9b4852b381b479db172255bc0f2ca247784a6da185b545\""
   ]
  },
  {
   "cell_type": "markdown",
   "id": "c574e728-d2de-40b1-a730-72648e5181b8",
   "metadata": {},
   "source": [
    "### Set up IBM account"
   ]
  },
  {
   "cell_type": "code",
   "execution_count": 4,
   "id": "96f6011f-a51c-49f0-a953-d728cc579f5c",
   "metadata": {},
   "outputs": [
    {
     "name": "stderr",
     "output_type": "stream",
     "text": [
      "/tmp/ipykernel_1085976/1614407315.py:1: DeprecationWarning: The package qiskit.providers.ibmq is being deprecated. Please see https://ibm.biz/provider_migration_guide to get instructions on how to migrate to qiskit-ibm-provider (https://github.com/Qiskit/qiskit-ibm-provider) and qiskit-ibm-runtime (https://github.com/Qiskit/qiskit-ibm-runtime).\n",
      "  IBMQ.enable_account(api_token)\n",
      "/tmp/ipykernel_1085976/1614407315.py:1: DeprecationWarning: The qiskit.IBMQ entrypoint and the qiskit-ibmq-provider package (accessible from 'qiskit.providers.ibmq`) are deprecated and will be removed in a future release. Instead you should use the qiskit-ibm-provider package which is accessible from 'qiskit_ibm_provider'. You can install it with 'pip install qiskit_ibm_provider'. Just replace 'qiskit.IBMQ' with 'qiskit_ibm_provider.IBMProvider'\n",
      "  IBMQ.enable_account(api_token)\n"
     ]
    },
    {
     "name": "stdout",
     "output_type": "stream",
     "text": [
      "[<IBMQSimulator('ibmq_qasm_simulator') from IBMQ(hub='ibm-q', group='open', project='main')>, <IBMQSimulator('simulator_statevector') from IBMQ(hub='ibm-q', group='open', project='main')>, <IBMQSimulator('simulator_mps') from IBMQ(hub='ibm-q', group='open', project='main')>, <IBMQSimulator('simulator_extended_stabilizer') from IBMQ(hub='ibm-q', group='open', project='main')>, <IBMQSimulator('simulator_stabilizer') from IBMQ(hub='ibm-q', group='open', project='main')>, <IBMQBackend('ibm_brisbane') from IBMQ(hub='ibm-q', group='open', project='main')>, <IBMQBackend('ibm_kyoto') from IBMQ(hub='ibm-q', group='open', project='main')>, <IBMQBackend('ibm_osaka') from IBMQ(hub='ibm-q', group='open', project='main')>]\n"
     ]
    }
   ],
   "source": [
    "IBMQ.enable_account(api_token)\n",
    "provider = IBMQ.get_provider(hub='ibm-q')\n",
    "print(provider.backends())\n",
    "backend = provider.get_backend('ibmq_qasm_simulator')\n"
   ]
  },
  {
   "cell_type": "markdown",
   "id": "0f677049-a82e-4dba-93a5-bcdf0766686f",
   "metadata": {},
   "source": [
    "### Set up quantum circuit"
   ]
  },
  {
   "cell_type": "code",
   "execution_count": 5,
   "id": "7efb52a9-c8b9-4eec-ba22-db001c6ef6c1",
   "metadata": {},
   "outputs": [],
   "source": [
    "#Set up quantum circuit\n",
    "def set_up_qc(qubits):\n",
    "    q = QuantumRegister(qubits, 'q')\n",
    "    c = ClassicalRegister(qubits, 'c')\n",
    "    qc = QuantumCircuit(q, c)\n",
    "    return qc, q, c"
   ]
  },
  {
   "cell_type": "code",
   "execution_count": 6,
   "id": "c43aac6d-d642-454d-8133-04ce296f408a",
   "metadata": {},
   "outputs": [],
   "source": [
    "qubits = 7\n",
    "qc, q, c = set_up_qc(qubits)"
   ]
  },
  {
   "cell_type": "markdown",
   "id": "57e74ba7-0c93-427e-ab52-01294ed740d3",
   "metadata": {},
   "source": [
    "### Alice generates a random key"
   ]
  },
  {
   "cell_type": "code",
   "execution_count": 7,
   "id": "95df079a-ff45-443d-b905-e2d06dd2cfb6",
   "metadata": {},
   "outputs": [],
   "source": [
    "def generate_random_bits(qc, q, c):\n",
    "    qc.h(q)\n",
    "    qc.measure(q, c)\n",
    "    job = execute(qc, backend, shots=1)\n",
    "    # job_monitor(job)\n",
    "    counts = job.result().get_counts()\n",
    "    key = list(counts.keys())[0]\n",
    "    return key"
   ]
  },
  {
   "cell_type": "code",
   "execution_count": 8,
   "id": "6508a618-c4aa-4965-9d5e-03a7855c647a",
   "metadata": {},
   "outputs": [
    {
     "name": "stdout",
     "output_type": "stream",
     "text": [
      "Alice Key: 0001000\n"
     ]
    }
   ],
   "source": [
    "alice_key = generate_random_bits(qc, q, c)\n",
    "print(\"Alice Key:\", alice_key)"
   ]
  },
  {
   "cell_type": "markdown",
   "id": "ec00b15e-04b7-4abe-8300-0e802d97c351",
   "metadata": {},
   "source": [
    "### Alice generates random bases to encode the key"
   ]
  },
  {
   "cell_type": "code",
   "execution_count": 9,
   "id": "892a4cd8-6815-4388-8030-becfbb227402",
   "metadata": {},
   "outputs": [
    {
     "name": "stdout",
     "output_type": "stream",
     "text": [
      "Alice Bases: 0100111\n"
     ]
    }
   ],
   "source": [
    "alice_bases = generate_random_bits(qc, q, c)\n",
    "print(\"Alice Bases:\", alice_bases)"
   ]
  },
  {
   "cell_type": "markdown",
   "id": "d1ce818c-c1c7-4171-8db8-593305020c67",
   "metadata": {},
   "source": [
    "### Alice encodes key using bases\n",
    "```\n",
    "example:\n",
    "01000100 - basis\n",
    "01011010 - key\n",
    "0?011?10 - result\n",
    "```\n",
    "```\n",
    "basis 1 = Hadamard Basis (Diagonal)\n",
    "basis 0 = Computational Basis (Recilinear)\n",
    "```"
   ]
  },
  {
   "cell_type": "code",
   "execution_count": 10,
   "id": "1df8415b-7f5a-46f9-b59a-ed8c74a009b8",
   "metadata": {},
   "outputs": [],
   "source": [
    "def encode(key, bases, qubits):\n",
    "    qc = QuantumCircuit(q,c)\n",
    "    encoded_key = \"\"\n",
    "    gates = \"\"\n",
    "    for i in range(qubits):\n",
    "        #basis 1 = Hadamard Basis\n",
    "        #basis 0 = Computational Basis\n",
    "        if key[i] == '1':\n",
    "                qc.x(i)\n",
    "        if bases[i] == '1':\n",
    "            qc.h(i)\n",
    "            gates += \"H\"\n",
    "            if key[i] == '1':\n",
    "                encoded_key += \"|-⟩\"\n",
    "            else:\n",
    "                encoded_key += \"|+⟩\"\n",
    "        else:\n",
    "            if key[i] == '1':\n",
    "                gates += \"x\"\n",
    "                encoded_key += \"|1⟩\"\n",
    "            else:\n",
    "                gates += \".\"\n",
    "                encoded_key += \"|0⟩\"\n",
    "    return encoded_key, gates, qc"
   ]
  },
  {
   "cell_type": "code",
   "execution_count": 11,
   "id": "933b2fd5-fa1a-4f22-9bcf-4fe2392576ff",
   "metadata": {},
   "outputs": [
    {
     "name": "stdout",
     "output_type": "stream",
     "text": [
      "Alice Encoded Key: |0⟩|+⟩|0⟩|1⟩|+⟩|+⟩|+⟩\n",
      "Alice Gates Applied: .H.xHHH\n"
     ]
    }
   ],
   "source": [
    "alice_encoded_key, alice_gates, alice_qc = encode(alice_key, alice_bases, qubits)\n",
    "print(\"Alice Encoded Key:\", alice_encoded_key)   \n",
    "print(\"Alice Gates Applied:\", alice_gates)  "
   ]
  },
  {
   "cell_type": "markdown",
   "id": "2c6b9812-5f01-4f93-bae9-51e0ba713de1",
   "metadata": {},
   "source": [
    "### Bob generates random bases"
   ]
  },
  {
   "cell_type": "code",
   "execution_count": 12,
   "id": "ad3296a2-dd9f-43a3-a9b4-b3e8c5300761",
   "metadata": {},
   "outputs": [
    {
     "name": "stdout",
     "output_type": "stream",
     "text": [
      "Bob Bases: 1000111\n"
     ]
    }
   ],
   "source": [
    "bob_bases = generate_random_bits(qc, q, c)\n",
    "print(\"Bob Bases:\", bob_bases)"
   ]
  },
  {
   "cell_type": "markdown",
   "id": "c5745612-5dae-44a0-a6d6-82f10dd6d754",
   "metadata": {},
   "source": [
    "### Bob decodes Alice's encoded key using Bob's bases\n",
    "\n",
    "* test using alice bases (should return alice's original key)"
   ]
  },
  {
   "cell_type": "code",
   "execution_count": 13,
   "id": "abb174db-068c-4dc1-90d4-b16d607f58b2",
   "metadata": {},
   "outputs": [],
   "source": [
    "def decode(qc, bases, qubits):\n",
    "    gates = \"\"\n",
    "    for i in range(qubits):\n",
    "        if bases[i] == '1':\n",
    "        # if alice_bases[i] == '1': //test using alice bases (should return alice's original key)\n",
    "            qc.h(i)\n",
    "            gates += \"H\"\n",
    "        else:\n",
    "            gates += \".\"\n",
    "    qc.measure_all()\n",
    "    job = execute(qc, backend, shots=1)\n",
    "    counts = job.result().get_counts()\n",
    "    decoded_key = list(counts.keys())[0][0:qubits][::-1]\n",
    "    return decoded_key, gates\n",
    "    "
   ]
  },
  {
   "cell_type": "code",
   "execution_count": 14,
   "id": "43cf1682-08ad-4982-ba29-83c67bf8dbfe",
   "metadata": {},
   "outputs": [
    {
     "name": "stdout",
     "output_type": "stream",
     "text": [
      "Bob Decoded Key: 1101000\n",
      "Bob Gates Applied: H...HHH\n"
     ]
    }
   ],
   "source": [
    "bob_decoded_key, bob_gates = decode(alice_qc, bob_bases, qubits)\n",
    "print(\"Bob Decoded Key:\", bob_decoded_key)    \n",
    "print(\"Bob Gates Applied:\", bob_gates)"
   ]
  },
  {
   "cell_type": "markdown",
   "id": "c722a498-efd0-4932-9c2a-858344ea62dc",
   "metadata": {},
   "source": [
    "### Alice shares encoding bases classically and Bob compares bases with Alice\n",
    "\n",
    "Keys won't match due to noise or iterception by Eve. If keys don't match then throw them away and try again."
   ]
  },
  {
   "cell_type": "code",
   "execution_count": 15,
   "id": "08e4e0b2-547f-4b43-b513-57f81bbf7b77",
   "metadata": {},
   "outputs": [],
   "source": [
    "def find_shared_key(alice_bases, bob_bases, alice_key, bob_decoded_key, qubits):\n",
    "    alice_shared_key = \"\"\n",
    "    bob_shared_key = \"\"\n",
    "    for i in range(qubits):\n",
    "        if alice_bases[i] == bob_bases[i]:\n",
    "            alice_shared_key += alice_key[i]\n",
    "            bob_shared_key += bob_decoded_key[i]\n",
    "    return alice_shared_key, bob_shared_key\n",
    "    \n",
    "        "
   ]
  },
  {
   "cell_type": "code",
   "execution_count": 16,
   "id": "3a6bb189-5415-4017-b771-2140c699cbe1",
   "metadata": {},
   "outputs": [
    {
     "name": "stdout",
     "output_type": "stream",
     "text": [
      "Alice Shared Key: 01000\n",
      "Bob Shared Key: 01000\n",
      "Keys match!\n"
     ]
    }
   ],
   "source": [
    "alice_shared_key, bob_shared_key = find_shared_key(alice_bases, bob_bases, alice_key, bob_decoded_key, qubits)\n",
    "print(\"Alice Shared Key:\", alice_shared_key)\n",
    "print(\"Bob Shared Key:\", bob_shared_key)\n",
    "if alice_shared_key == bob_shared_key:\n",
    "    print(\"Keys match!\")\n",
    "else:\n",
    "    print(\"Keys don't match. Discard the keys and run algorithm again\")"
   ]
  },
  {
   "cell_type": "markdown",
   "id": "bd932a95-4357-4d46-ace6-cd7e5dea75db",
   "metadata": {},
   "source": [
    "### Using more qubits"
   ]
  },
  {
   "cell_type": "code",
   "execution_count": 17,
   "id": "b638676a-3f8a-4dc8-9393-7336d5c04967",
   "metadata": {},
   "outputs": [
    {
     "name": "stdout",
     "output_type": "stream",
     "text": [
      "256 qubit key\n",
      "\n",
      "Alice key: 0011010111111001100001100111000101111110111110110001000000111101100110011010000111100001111101100111111111100011010110010100010101011011101010110100110100001111111110001011000101000010000100110111111000111000110001111110101111010110011101000011011100101100\n",
      "Alice bases: 0111110100011100000000010001010101001101110001000011101100010110111000101111111011010001001110011000110010100101000000111000001001101111101011101001101000110110001100100100011011100011010111110011101000000001110101010100001001100010100111010010100001111010\n",
      "Alice encoded key: |0⟩|+⟩|-⟩|-⟩|+⟩|-⟩|0⟩|-⟩|1⟩|1⟩|1⟩|-⟩|-⟩|+⟩|0⟩|1⟩|1⟩|0⟩|0⟩|0⟩|0⟩|1⟩|1⟩|+⟩|0⟩|1⟩|1⟩|-⟩|0⟩|+⟩|0⟩|-⟩|0⟩|-⟩|1⟩|1⟩|-⟩|-⟩|1⟩|+⟩|-⟩|-⟩|1⟩|1⟩|1⟩|+⟩|1⟩|1⟩|0⟩|0⟩|+⟩|-⟩|+⟩|0⟩|+⟩|+⟩|0⟩|0⟩|1⟩|-⟩|1⟩|-⟩|+⟩|1⟩|-⟩|+⟩|+⟩|1⟩|1⟩|0⟩|+⟩|1⟩|-⟩|+⟩|-⟩|+⟩|+⟩|+⟩|+⟩|1⟩|-⟩|-⟩|1⟩|+⟩|0⟩|0⟩|0⟩|-⟩|1⟩|1⟩|-⟩|-⟩|+⟩|1⟩|1⟩|+⟩|+⟩|1⟩|1⟩|1⟩|-⟩|-⟩|1⟩|1⟩|-⟩|1⟩|-⟩|0⟩|0⟩|+⟩|1⟩|-⟩|0⟩|1⟩|0⟩|1⟩|1⟩|0⟩|+⟩|-⟩|+⟩|1⟩|0⟩|0⟩|0⟩|1⟩|+⟩|1⟩|0⟩|-⟩|+⟩|1⟩|-⟩|+⟩|-⟩|-⟩|-⟩|0⟩|-⟩|0⟩|-⟩|+⟩|-⟩|1⟩|+⟩|1⟩|0⟩|+⟩|-⟩|1⟩|+⟩|1⟩|0⟩|0⟩|+⟩|+⟩|1⟩|-⟩|-⟩|1⟩|1⟩|1⟩|-⟩|-⟩|1⟩|0⟩|+⟩|0⟩|1⟩|+⟩|1⟩|1⟩|0⟩|+⟩|+⟩|1⟩|+⟩|-⟩|+⟩|0⟩|0⟩|0⟩|-⟩|+⟩|0⟩|+⟩|0⟩|-⟩|+⟩|+⟩|-⟩|-⟩|0⟩|1⟩|-⟩|-⟩|-⟩|1⟩|-⟩|0⟩|0⟩|0⟩|1⟩|1⟩|1⟩|0⟩|0⟩|+⟩|-⟩|-⟩|0⟩|+⟩|0⟩|-⟩|1⟩|-⟩|1⟩|-⟩|1⟩|0⟩|1⟩|0⟩|-⟩|1⟩|1⟩|-⟩|+⟩|1⟩|0⟩|1⟩|-⟩|0⟩|+⟩|1⟩|1⟩|-⟩|+⟩|-⟩|0⟩|+⟩|0⟩|0⟩|-⟩|1⟩|+⟩|1⟩|1⟩|1⟩|0⟩|+⟩|-⟩|+⟩|-⟩|1⟩|+⟩|0⟩\n",
      "\n",
      "Bob bases: 1000010101110111001101110101010110000100110101100000001101110101111010001001100111001111010110100111111000100110101010110111010101110100111000010100011001111100101111011011110011100101001011000100111110111101001111101011010110100111011001011011110011100101\n",
      "Bob decoded key: 1001010111010001100101100111000110110111111010010000100001111100100110011000001111100111111101110111111111100010110100010001010101001000101000010000100101000111011111011011100101000000001100000101101000111000010001000001110000010010111001001011001110111101\n",
      "\n",
      "Alice shared key: 10111010000110001111111110100000011110010110011111101111110001100100100110001000111110101000000001100001101011000101101\n",
      "Bob shared key: 10111010000110001111111110100000011110010110011111101111110001100100100110001000111110101000000001100001101011000101101\n",
      "119 qubit key, 46.48% of initial key\n",
      "\n",
      "Alice and Bob shared key match?: True\n"
     ]
    }
   ],
   "source": [
    "qubits = 256\n",
    "qc, q, c = set_up_qc(qubits)\n",
    "print(qubits, \"qubit key\")\n",
    "print()\n",
    "\n",
    "alice_key = generate_random_bits(qc, q, c)\n",
    "alice_bases = generate_random_bits(qc, q, c)\n",
    "\n",
    "alice_encoded_key, alice_gates, alice_qc = encode(alice_key, alice_bases, qubits)\n",
    "\n",
    "print(\"Alice key:\", alice_key)\n",
    "print(\"Alice bases:\", alice_bases)\n",
    "print(\"Alice encoded key:\", alice_encoded_key)\n",
    "print()\n",
    "\n",
    "bob_bases = generate_random_bits(qc, q, c)\n",
    "bob_decoded_key, bob_gates = decode(alice_qc, bob_bases, qubits)\n",
    "print(\"Bob bases:\", bob_bases)\n",
    "print(\"Bob decoded key:\", bob_decoded_key)\n",
    "print()\n",
    "\n",
    "alice_shared_key, bob_shared_key = find_shared_key(alice_bases, bob_bases, alice_key, bob_decoded_key, qubits)\n",
    "print(\"Alice shared key:\", alice_shared_key)\n",
    "print(\"Bob shared key:\", bob_shared_key)\n",
    "print(f'{len(bob_shared_key)} qubit key, {(len(bob_shared_key)/qubits)*100:.2f}% of initial key')\n",
    "print()\n",
    "print(\"Alice and Bob shared key match?:\", alice_shared_key==bob_shared_key)"
   ]
  },
  {
   "cell_type": "markdown",
   "id": "3b029ae4-ea8b-44b4-8dde-5da938d13fb0",
   "metadata": {},
   "source": [
    "### Eve Intercepts Key!\n",
    "When Eve tries to measure the state of the qubits, she inevitably disturbs the quantum states due to the Heisenberg Uncertainty Principle. This disturbance becomes apparent when Alice and Bob observe a discrepancy in a sample of their keys.\n",
    "\n",
    "* Eve measures a bit in the wrong basis with a 1/2 probability (measuring in the wrong basis disrupts the state of the bit).\n",
    "* Bob measures a bit in the wrong basis with a 1/2 probability.\n",
    "* This gives a 1/4 probability that Bob will detect Eve.\n",
    "* For all bits, Eve has a 1-(3/4)<sup>n</sup> probability of being detected ((1/4)<sup>n</sup> probability of not being detected).\n",
    "* 8 bits ≈ 90% chance of detecting Eve.\n",
    "* 256 bits ≈ 100% chance of detecting Eve."
   ]
  },
  {
   "cell_type": "code",
   "execution_count": 25,
   "id": "007e4d05-7b49-4995-9e21-2dc2bc9b99db",
   "metadata": {},
   "outputs": [
    {
     "name": "stdout",
     "output_type": "stream",
     "text": [
      "4 qubit key\n",
      "\n",
      "Alice key: 1011\n",
      "Alice bases: 0101\n",
      "Alice encoded key: |1⟩|+⟩|1⟩|-⟩\n",
      "\n",
      "Eve intecepted the key!\n",
      "Eve bases: 0111\n",
      "Eve decoded key: 1011\n",
      "\n",
      "Bob bases: 0111\n",
      "Bob decoded key: 1010\n",
      "\n",
      "Alice shared key: 101\n",
      "Bob shared key: 100\n",
      "3 qubit key, 75.00% of initial key\n",
      "\n",
      "Alice shared key: 101\n",
      "Eve shared key: 101\n",
      "Alice and Eve shared key match?: True\n",
      "Eve found the shared key\n",
      "\n",
      "Alice and Bob shared key match?: False\n",
      "Eve's presence was detected! Discard keys and try again.\n"
     ]
    }
   ],
   "source": [
    "qubits = 4\n",
    "qc, q, c = set_up_qc(qubits)\n",
    "print(qubits, \"qubit key\")\n",
    "print()\n",
    "\n",
    "alice_key = generate_random_bits(qc, q, c)\n",
    "alice_bases = generate_random_bits(qc, q, c)\n",
    "alice_encoded_key, alice_gates, alice_qc = encode(alice_key, alice_bases, qubits)\n",
    "\n",
    "print(\"Alice key:\", alice_key)\n",
    "print(\"Alice bases:\", alice_bases)\n",
    "print(\"Alice encoded key:\", alice_encoded_key)\n",
    "print()\n",
    "\n",
    "#Eve intercepts key!\n",
    "eve_bases = generate_random_bits(qc, q, c)\n",
    "eve_decoded_key, eve_gates = decode(alice_qc, eve_bases, qubits)\n",
    "print(\"Eve intecepted the key!\")\n",
    "print(\"Eve bases:\", eve_bases)\n",
    "print(\"Eve decoded key:\", eve_decoded_key)\n",
    "print()\n",
    "\n",
    "\n",
    "bob_bases = generate_random_bits(qc, q, c)\n",
    "bob_decoded_key, bob_gates = decode(alice_qc, bob_bases, qubits)\n",
    "print(\"Bob bases:\", bob_bases)\n",
    "print(\"Bob decoded key:\", bob_decoded_key)\n",
    "print()\n",
    "\n",
    "alice_shared_key, bob_shared_key = find_shared_key(alice_bases, bob_bases, alice_key, bob_decoded_key, qubits)\n",
    "print(\"Alice shared key:\", alice_shared_key)\n",
    "print(\"Bob shared key:\", bob_shared_key)\n",
    "print(f'{len(bob_shared_key)} qubit key, {(len(bob_shared_key)/qubits)*100:.2f}% of initial key')\n",
    "print()\n",
    "\n",
    "alice_shared_key, eve_shared_key = find_shared_key(alice_bases, bob_bases, alice_key, eve_decoded_key, qubits)\n",
    "print(\"Alice shared key:\", alice_shared_key)\n",
    "print(\"Eve shared key:\", eve_shared_key)\n",
    "print(\"Alice and Eve shared key match?:\", alice_shared_key==eve_shared_key)\n",
    "if alice_shared_key==eve_shared_key:\n",
    "    print(\"Eve found the shared key\")\n",
    "print()\n",
    "\n",
    "print(\"Alice and Bob shared key match?:\", alice_shared_key==bob_shared_key)\n",
    "if alice_shared_key!=bob_shared_key:\n",
    "    print(\"Eve's presence was detected! Discard keys and try again.\")\n",
    "else:\n",
    "    print(\"Eve went undetected!\")\n",
    "    \n"
   ]
  },
  {
   "cell_type": "code",
   "execution_count": null,
   "id": "f1f2f82e-dc06-49bb-bb01-75d511d7fdbc",
   "metadata": {},
   "outputs": [],
   "source": []
  }
 ],
 "metadata": {
  "kernelspec": {
   "display_name": "Python 3 (ipykernel)",
   "language": "python",
   "name": "python3"
  },
  "language_info": {
   "codemirror_mode": {
    "name": "ipython",
    "version": 3
   },
   "file_extension": ".py",
   "mimetype": "text/x-python",
   "name": "python",
   "nbconvert_exporter": "python",
   "pygments_lexer": "ipython3",
   "version": "3.8.10"
  }
 },
 "nbformat": 4,
 "nbformat_minor": 5
}
