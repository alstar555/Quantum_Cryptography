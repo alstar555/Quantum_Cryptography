{
 "cells": [
  {
   "cell_type": "markdown",
   "id": "34f74eae-e96a-4568-b9a6-d01c2449e205",
   "metadata": {},
   "source": [
    "# Quantum Key Distribution (QKD): \n",
    "## E91 protocol implementation\n",
    "\n",
    "Developed in 1991 by Artur Ekert, the E91 protocol is a form of Quantum Key Distribution (QKD) which leverages quantum entanglement to securly quantum channel between two parties, Alice and Bob, leveraging the uncertainty principle and the no-cloning theorem from quantum mechanics. This prevents any potential eavesdropper, such as Eve, from intercepting the key without detection."
   ]
  },
  {
   "cell_type": "code",
   "execution_count": 4,
   "id": "ef68ec9d-de56-4897-afc6-a724aa29a7cf",
   "metadata": {},
   "outputs": [],
   "source": [
    "# import qiskit\n",
    "from qiskit import QuantumRegister, ClassicalRegister, QuantumCircuit, execute,IBMQ\n",
    "from qiskit_ibm_provider import IBMProvider"
   ]
  },
  {
   "cell_type": "code",
   "execution_count": 102,
   "id": "15033710-db51-47ff-9194-baa16243593f",
   "metadata": {},
   "outputs": [],
   "source": [
    "api_token = \"\""
   ]
  },
  {
   "cell_type": "markdown",
   "id": "c574e728-d2de-40b1-a730-72648e5181b8",
   "metadata": {},
   "source": [
    "### Set up IBM account"
   ]
  },
  {
   "cell_type": "code",
   "execution_count": 6,
   "id": "96f6011f-a51c-49f0-a953-d728cc579f5c",
   "metadata": {},
   "outputs": [
    {
     "name": "stderr",
     "output_type": "stream",
     "text": [
      "/tmp/ipykernel_1338751/1614407315.py:1: DeprecationWarning: The package qiskit.providers.ibmq is being deprecated. Please see https://ibm.biz/provider_migration_guide to get instructions on how to migrate to qiskit-ibm-provider (https://github.com/Qiskit/qiskit-ibm-provider) and qiskit-ibm-runtime (https://github.com/Qiskit/qiskit-ibm-runtime).\n",
      "  IBMQ.enable_account(api_token)\n",
      "/tmp/ipykernel_1338751/1614407315.py:1: DeprecationWarning: The qiskit.IBMQ entrypoint and the qiskit-ibmq-provider package (accessible from 'qiskit.providers.ibmq`) are deprecated and will be removed in a future release. Instead you should use the qiskit-ibm-provider package which is accessible from 'qiskit_ibm_provider'. You can install it with 'pip install qiskit_ibm_provider'. Just replace 'qiskit.IBMQ' with 'qiskit_ibm_provider.IBMProvider'\n",
      "  IBMQ.enable_account(api_token)\n"
     ]
    },
    {
     "name": "stdout",
     "output_type": "stream",
     "text": [
      "[<IBMQSimulator('ibmq_qasm_simulator') from IBMQ(hub='ibm-q', group='open', project='main')>, <IBMQSimulator('simulator_statevector') from IBMQ(hub='ibm-q', group='open', project='main')>, <IBMQSimulator('simulator_mps') from IBMQ(hub='ibm-q', group='open', project='main')>, <IBMQSimulator('simulator_extended_stabilizer') from IBMQ(hub='ibm-q', group='open', project='main')>, <IBMQSimulator('simulator_stabilizer') from IBMQ(hub='ibm-q', group='open', project='main')>, <IBMQBackend('ibm_brisbane') from IBMQ(hub='ibm-q', group='open', project='main')>, <IBMQBackend('ibm_kyoto') from IBMQ(hub='ibm-q', group='open', project='main')>, <IBMQBackend('ibm_osaka') from IBMQ(hub='ibm-q', group='open', project='main')>]\n"
     ]
    }
   ],
   "source": [
    "IBMQ.enable_account(api_token)\n",
    "provider = IBMQ.get_provider(hub='ibm-q')\n",
    "print(provider.backends())\n",
    "backend = provider.get_backend('ibmq_qasm_simulator')\n"
   ]
  },
  {
   "cell_type": "markdown",
   "id": "0f677049-a82e-4dba-93a5-bcdf0766686f",
   "metadata": {},
   "source": [
    "### Set up quantum circuit"
   ]
  },
  {
   "cell_type": "code",
   "execution_count": 89,
   "id": "7efb52a9-c8b9-4eec-ba22-db001c6ef6c1",
   "metadata": {},
   "outputs": [],
   "source": [
    "#Set up quantum circuit\n",
    "def set_up_qc(qubits):\n",
    "    q = QuantumRegister(qubits, 'q')\n",
    "    c = ClassicalRegister(qubits, 'c')\n",
    "    qc = QuantumCircuit(q, c)\n",
    "    return qc, q, c"
   ]
  },
  {
   "cell_type": "markdown",
   "id": "239077e9-6725-491d-94a7-58b636540314",
   "metadata": {},
   "source": [
    "### Prepare entangled qubits\n",
    "A centeral source prepares pairs of entangled qubits which are sent to Alice and Bob"
   ]
  },
  {
   "cell_type": "code",
   "execution_count": 90,
   "id": "79687ef6-e551-49a1-9136-5934fe4a5321",
   "metadata": {},
   "outputs": [],
   "source": [
    "def generate_entangled_bits(qc, qubits):\n",
    "    for i in range(qubits):\n",
    "        qc.h(i)\n",
    "        qc.cx(i, i+qubits)"
   ]
  },
  {
   "cell_type": "code",
   "execution_count": 91,
   "id": "82ddd053-106f-4d19-981f-90c4bc59801d",
   "metadata": {},
   "outputs": [],
   "source": [
    "qubits = 10\n",
    "qc, q, c = set_up_qc(qubits*2)\n",
    "generate_entangled_bits(qc, qubits)"
   ]
  },
  {
   "cell_type": "markdown",
   "id": "ec00b15e-04b7-4abe-8300-0e802d97c351",
   "metadata": {},
   "source": [
    "### Alice generates random bases to decode the key"
   ]
  },
  {
   "cell_type": "code",
   "execution_count": 92,
   "id": "95df079a-ff45-443d-b905-e2d06dd2cfb6",
   "metadata": {},
   "outputs": [],
   "source": [
    "def generate_random_bits(qubits):\n",
    "    qc, q, c = set_up_qc(qubits)\n",
    "    qc.h(q)\n",
    "    qc.measure(q, c)\n",
    "    job = execute(qc, backend, shots=1)\n",
    "    counts = job.result().get_counts()\n",
    "    bits = list(counts.keys())[0]\n",
    "    return bits"
   ]
  },
  {
   "cell_type": "code",
   "execution_count": 93,
   "id": "892a4cd8-6815-4388-8030-becfbb227402",
   "metadata": {},
   "outputs": [
    {
     "name": "stdout",
     "output_type": "stream",
     "text": [
      "Alice Bases: 0110000001\n"
     ]
    }
   ],
   "source": [
    "alice_bases = generate_random_bits(qubits)\n",
    "print(\"Alice Bases:\", alice_bases)"
   ]
  },
  {
   "cell_type": "markdown",
   "id": "d1ce818c-c1c7-4171-8db8-593305020c67",
   "metadata": {},
   "source": [
    "### Alice decodes key using bases\n",
    "```\n",
    "example:\n",
    "01000100 - basis\n",
    "01011010 - key\n",
    "0?011?10 - result\n",
    "```\n",
    "```\n",
    "basis 1 = Hadamard Basis (Diagonal)\n",
    "basis 0 = Computational Basis (Recilinear)\n",
    "```"
   ]
  },
  {
   "cell_type": "code",
   "execution_count": 94,
   "id": "abb174db-068c-4dc1-90d4-b16d607f58b2",
   "metadata": {},
   "outputs": [],
   "source": [
    "def decode(qc, bases, start, end):\n",
    "    gates = \"\"\n",
    "    decoded_key = \"\"\n",
    "    j = 0\n",
    "    for i in range(start, end):\n",
    "        if bases[j] == '1':\n",
    "            qc.h(i)\n",
    "            gates += \"H\"\n",
    "        else:\n",
    "            gates += \".\"\n",
    "        j += 1\n",
    "    return gates\n",
    "    "
   ]
  },
  {
   "cell_type": "code",
   "execution_count": 95,
   "id": "bd9470a9-adbe-43c0-80c7-d0e9ab0ba698",
   "metadata": {},
   "outputs": [
    {
     "name": "stdout",
     "output_type": "stream",
     "text": [
      "Alice Gates Applied: .HH......H\n"
     ]
    }
   ],
   "source": [
    "alice_gates = decode(qc, alice_bases, 0, qubits)\n",
    "print(\"Alice Gates Applied:\", alice_gates)  "
   ]
  },
  {
   "cell_type": "markdown",
   "id": "2c6b9812-5f01-4f93-bae9-51e0ba713de1",
   "metadata": {},
   "source": [
    "### Bob generates random bases"
   ]
  },
  {
   "cell_type": "code",
   "execution_count": 96,
   "id": "ad3296a2-dd9f-43a3-a9b4-b3e8c5300761",
   "metadata": {},
   "outputs": [
    {
     "name": "stdout",
     "output_type": "stream",
     "text": [
      "Bob Bases: 1110000001\n"
     ]
    }
   ],
   "source": [
    "bob_bases = generate_random_bits(qubits)\n",
    "print(\"Bob Bases:\", bob_bases)"
   ]
  },
  {
   "cell_type": "markdown",
   "id": "c5745612-5dae-44a0-a6d6-82f10dd6d754",
   "metadata": {},
   "source": [
    "### Bob decodes key using bases"
   ]
  },
  {
   "cell_type": "code",
   "execution_count": 97,
   "id": "5b2ce73c-d32a-40ff-bbd1-5a87e4e7bde5",
   "metadata": {},
   "outputs": [],
   "source": [
    "def measure_qc(qc, qubits):\n",
    "    qc.measure_all()\n",
    "    job = execute(qc, backend, shots=1)\n",
    "    counts = job.result().get_counts()\n",
    "    bits = list(counts.keys())[0][0:qubits*2][::-1]\n",
    "    return bits"
   ]
  },
  {
   "cell_type": "code",
   "execution_count": 98,
   "id": "43cf1682-08ad-4982-ba29-83c67bf8dbfe",
   "metadata": {},
   "outputs": [
    {
     "name": "stdout",
     "output_type": "stream",
     "text": [
      "Alice Decoded Key: 1010111001\n",
      "Bob Decoded Key: 1010111001\n",
      "Bob Gates Applied: HHH......H\n"
     ]
    }
   ],
   "source": [
    "bob_gates = decode(qc, bob_bases, qubits, 2*qubits)\n",
    "bits = measure_qc(qc, qubits)\n",
    "alice_decoded_key = bits[0:qubits]\n",
    "bob_decoded_key = bits[qubits:2*qubits]\n",
    "\n",
    "print(\"Alice Decoded Key:\", alice_decoded_key)    \n",
    "print(\"Bob Decoded Key:\", bob_decoded_key)   \n",
    "\n",
    "print(\"Bob Gates Applied:\", bob_gates)"
   ]
  },
  {
   "cell_type": "markdown",
   "id": "c722a498-efd0-4932-9c2a-858344ea62dc",
   "metadata": {},
   "source": [
    "### Alice shares encoding bases classically and Bob compares bases with Alice\n",
    "\n",
    "Keys won't match if the quantum states were distrupted due to noise or iterception by Eve. If keys don't match then throw them away and try again."
   ]
  },
  {
   "cell_type": "code",
   "execution_count": 99,
   "id": "08e4e0b2-547f-4b43-b513-57f81bbf7b77",
   "metadata": {},
   "outputs": [],
   "source": [
    "def find_shared_key(alice_bases, bob_bases, alice_key, bob_decoded_key, qubits):\n",
    "    alice_shared_key = \"\"\n",
    "    bob_shared_key = \"\"\n",
    "    for i in range(qubits):\n",
    "        if alice_bases[i] == bob_bases[i]:\n",
    "            alice_shared_key += alice_decoded_key[i]\n",
    "            bob_shared_key += bob_decoded_key[i]\n",
    "    return alice_shared_key, bob_shared_key\n",
    "    \n",
    "        "
   ]
  },
  {
   "cell_type": "code",
   "execution_count": 100,
   "id": "3a6bb189-5415-4017-b771-2140c699cbe1",
   "metadata": {},
   "outputs": [
    {
     "name": "stdout",
     "output_type": "stream",
     "text": [
      "Alice Shared Key: 010111001\n",
      "Bob Shared Key: 010111001\n",
      "Keys match!\n"
     ]
    }
   ],
   "source": [
    "alice_shared_key, bob_shared_key = find_shared_key(alice_bases, bob_bases, alice_decoded_key, bob_decoded_key, qubits)\n",
    "print(\"Alice Shared Key:\", alice_shared_key)\n",
    "print(\"Bob Shared Key:\", bob_shared_key)\n",
    "if alice_shared_key == bob_shared_key:\n",
    "    print(\"Keys match!\")\n",
    "else:\n",
    "    print(\"Keys don't match. Discard the keys and run algorithm again\")"
   ]
  },
  {
   "cell_type": "markdown",
   "id": "bd932a95-4357-4d46-ace6-cd7e5dea75db",
   "metadata": {},
   "source": [
    "### Using more qubits"
   ]
  },
  {
   "cell_type": "code",
   "execution_count": 101,
   "id": "b638676a-3f8a-4dc8-9393-7336d5c04967",
   "metadata": {},
   "outputs": [
    {
     "name": "stdout",
     "output_type": "stream",
     "text": [
      "256 qubit key\n",
      "\n",
      "Alice Bases: 1011011111101110100101101001010000011111100010010000010001001111001000101101101111101101110010111101000000010110110100001011001010010100110011001010100101100110011110001001101000110011100100111110011010011001011001001111100100110100111110010110010100011111\n",
      "Alice Gates Applied: H.HH.HHHHHH.HHH.H..H.HH.H..H.H.....HHHHHH...H..H.....H...H..HHHH..H...H.HH.HH.HHHHH.HH.HHH..H.HHHH.H.......H.HH.HH.H....H.HH..H.H..H.H..HH..HH..H.H.H..H.HH..HH..HHHH...H..HH.H...HH..HHH..H..HHHHH..HH.H..HH..H.HH..H..HHHHH..H..HH.H..HHHHH..H.HH..H.H...HHHHH\n",
      "\n",
      "Bob Bases: 1100000100101011001000000000110100110001011110011100110011100001001110011001010011101110001001111101110010110000101111010111100001011011010011010101111100010001000110001000111010000110100110110000000011100101010111110000110111110011000000010111100001010000\n",
      "Bob Gates Applied: HH.....H..H.H.HH..H.........HH.H..HH...H.HHHH..HHH..HH..HHH....H..HHH..HH..H.H..HHH.HHH...H..HHHHH.HHH..H.HH....H.HHHH.H.HHHH....H.HH.HH.H..HH.H.H.HHHHH...H...H...HH...H...HHH.H....HH.H..HH.HH........HHH..H.H.H.HHHHH....HH.HHHHH..HH.......H.HHHH....H.H....\n",
      "\n",
      "Alice Decoded Key: 1101110001110100100110110000111001000000101110000110011101010010111000111101000101111111010001011100010111000100000101101110110001001001100110110000110000111001101111101100000100010010001000000111010010001100101000001100111011010010001000010100101000100000\n",
      "Bob Decoded Key: 1001110000110000000111111001111101000000100010000110111111111110111000101001010101111100000010011100100111000010001110101010111010001001100110110110101001111101101111101100010110100110001010001011010010000100100000101010111011010101001100010101101000100011\n",
      "\n",
      "Alice Shared Key: 11011000110011010010001011111011101010111110011100011000011101000001101100111111011000100100100001001001001100100010101010\n",
      "Bob Shared Key: 11011000110011010010001011111011101010111110011100011000011101000001101100111111011000100100100001001001001100100010101010\n",
      "Keys match!\n",
      "122 qubit key, 47.66% of initial key\n",
      "\n",
      "Alice and Bob shared key match?: True\n"
     ]
    }
   ],
   "source": [
    "qubits = 256\n",
    "print(qubits, \"qubit key\")\n",
    "print()\n",
    "\n",
    "qc, q, c = set_up_qc(qubits*2)\n",
    "generate_entangled_bits(qc, qubits)\n",
    "\n",
    "\n",
    "alice_bases = generate_random_bits(qubits)\n",
    "alice_gates = decode(qc, alice_bases, 0, qubits)\n",
    "print(\"Alice Bases:\", alice_bases)\n",
    "print(\"Alice Gates Applied:\", alice_gates)  \n",
    "print()\n",
    "\n",
    "bob_bases = generate_random_bits(qubits)\n",
    "bob_gates = decode(qc, bob_bases, qubits, 2*qubits)\n",
    "print(\"Bob Bases:\", bob_bases)\n",
    "print(\"Bob Gates Applied:\", bob_gates)\n",
    "print()\n",
    "\n",
    "bits = measure_qc(qc, qubits)\n",
    "alice_decoded_key = bits[0:qubits]\n",
    "bob_decoded_key = bits[qubits:2*qubits]\n",
    "\n",
    "print(\"Alice Decoded Key:\", alice_decoded_key)    \n",
    "print(\"Bob Decoded Key:\", bob_decoded_key)   \n",
    "print()\n",
    "\n",
    "alice_shared_key, bob_shared_key = find_shared_key(alice_bases, bob_bases, alice_decoded_key, bob_decoded_key, qubits)\n",
    "print(\"Alice Shared Key:\", alice_shared_key)\n",
    "print(\"Bob Shared Key:\", bob_shared_key)\n",
    "if alice_shared_key == bob_shared_key:\n",
    "    print(\"Keys match!\")\n",
    "else:\n",
    "    print(\"Keys don't match. Discard the keys and run algorithm again\")\n",
    "    \n",
    "print(f'{len(bob_shared_key)} qubit key, {(len(bob_shared_key)/qubits)*100:.2f}% of initial key')\n",
    "print()\n",
    "print(\"Alice and Bob shared key match?:\", alice_shared_key==bob_shared_key)"
   ]
  }
 ],
 "metadata": {
  "kernelspec": {
   "display_name": "Python 3 (ipykernel)",
   "language": "python",
   "name": "python3"
  },
  "language_info": {
   "codemirror_mode": {
    "name": "ipython",
    "version": 3
   },
   "file_extension": ".py",
   "mimetype": "text/x-python",
   "name": "python",
   "nbconvert_exporter": "python",
   "pygments_lexer": "ipython3",
   "version": "3.8.10"
  }
 },
 "nbformat": 4,
 "nbformat_minor": 5
}
